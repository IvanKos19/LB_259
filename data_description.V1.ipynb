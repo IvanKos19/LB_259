{
 "cells": [
  {
   "cell_type": "markdown",
   "id": "691a835d",
   "metadata": {},
   "source": [
    "# Data Description\n",
    "\n",
    "In diesem Notebook analysiere ich den verwendeten Getränkebestelldatensatz. Ziel ist es, herauszufinden, welche **Region** welche **Getränkekategorien** bevorzugt und ob es zeitliche Muster im Bestellverhalten gibt.\n"
   ]
  },
  {
   "cell_type": "markdown",
   "id": "1aa63c97",
   "metadata": {},
   "source": [
    "## 2.1 Zielvariable\n",
    "\n",
    "Die gewählte Zielvariable ist **Region**, da ich analysieren möchte, welche Regionen bestimmte Getränkekategorien bevorzugen und wann (z. B. ob es saisonale Muster oder Unterschiede um Feiertage gibt).\n"
   ]
  },
  {
   "cell_type": "code",
   "execution_count": null,
   "id": "874fd3b3",
   "metadata": {},
   "outputs": [],
   "source": [
    "import pandas as pd\n",
    "\n",
    "df = pd.read_csv(\"synthetic_beverage_sales_data.csv\", sep=';')\n",
    "df['Order_Date'] = pd.to_datetime(df['Order_Date'], format='%d.%m.%Y')\n",
    "df['Month'] = df['Order_Date'].dt.month\n",
    "df['Weekday'] = df['Order_Date'].dt.day_name()\n",
    "df.head()"
   ]
  },
  {
   "cell_type": "markdown",
   "id": "f9e3e24b",
   "metadata": {},
   "source": [
    "## 2.2 Statistische Informationen"
   ]
  },
  {
   "cell_type": "code",
   "execution_count": null,
   "id": "3d283b33",
   "metadata": {},
   "outputs": [],
   "source": [
    "df.describe(include='all')"
   ]
  },
  {
   "cell_type": "markdown",
   "id": "ee2f30dc",
   "metadata": {},
   "source": [
    "## 2.3 Visualisierung: Beliebte Getränkekategorien pro Region"
   ]
  },
  {
   "cell_type": "code",
   "execution_count": null,
   "id": "f4cdc17a",
   "metadata": {},
   "outputs": [],
   "source": [
    "import matplotlib.pyplot as plt\n",
    "import seaborn as sns\n",
    "\n",
    "sns.set(style=\"whitegrid\")\n",
    "\n",
    "product_region = df.groupby(['Region', 'Category'])['Product'].count().unstack().fillna(0)\n",
    "\n",
    "plt.figure(figsize=(10, 6))\n",
    "product_region.plot(kind='bar', stacked=True)\n",
    "plt.title(\"Beliebte Getränkekategorien pro Region\")\n",
    "plt.ylabel(\"Anzahl verkaufter Produkte\")\n",
    "plt.xlabel(\"Region\")\n",
    "plt.xticks(rotation=45)\n",
    "plt.tight_layout()\n",
    "plt.show()"
   ]
  },
  {
   "cell_type": "markdown",
   "id": "9e6d1d05",
   "metadata": {},
   "source": [
    "## 2.4 Skalierung"
   ]
  },
  {
   "cell_type": "markdown",
   "id": "794ddfbe",
   "metadata": {},
   "source": [
    "Da die Zielvariable **Region** eine kategoriale Variable ist, ist eine Skalierung nicht notwendig. Skalierung ist in der Regel nur bei numerischen Eingabedaten relevant, wenn Modelle wie Regressionsanalysen oder neuronale Netze verwendet werden. Da hier vorwiegend deskriptive Analysen durchgeführt werden und die Zielvariable keine kontinuierlichen Werte enthält, ist eine Skalierung nicht sinnvoll."
   ]
  }
 ],
 "metadata": {
  "kernelspec": {
   "display_name": "Python 3 (ipykernel)",
   "language": "python",
   "name": "python3"
  },
  "language_info": {
   "codemirror_mode": {
    "name": "ipython",
    "version": 3
   },
   "file_extension": ".py",
   "mimetype": "text/x-python",
   "name": "python",
   "nbconvert_exporter": "python",
   "pygments_lexer": "ipython3",
   "version": "3.9.13"
  }
 },
 "nbformat": 4,
 "nbformat_minor": 5
}
